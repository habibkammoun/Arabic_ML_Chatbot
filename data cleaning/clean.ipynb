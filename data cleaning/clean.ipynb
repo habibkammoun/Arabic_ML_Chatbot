{
 "cells": [
  {
   "cell_type": "code",
   "execution_count": 3,
   "id": "57e1600d-61b7-4f71-8010-f90119404e5d",
   "metadata": {
    "tags": []
   },
   "outputs": [
    {
     "data": {
      "text/html": [
       "<div>\n",
       "<style scoped>\n",
       "    .dataframe tbody tr th:only-of-type {\n",
       "        vertical-align: middle;\n",
       "    }\n",
       "\n",
       "    .dataframe tbody tr th {\n",
       "        vertical-align: top;\n",
       "    }\n",
       "\n",
       "    .dataframe thead th {\n",
       "        text-align: right;\n",
       "    }\n",
       "</style>\n",
       "<table border=\"1\" class=\"dataframe\">\n",
       "  <thead>\n",
       "    <tr style=\"text-align: right;\">\n",
       "      <th></th>\n",
       "      <th>question</th>\n",
       "      <th>answer</th>\n",
       "    </tr>\n",
       "  </thead>\n",
       "  <tbody>\n",
       "    <tr>\n",
       "      <th>0</th>\n",
       "      <td>Explain the terms Artificial Intelligence (AI)...</td>\n",
       "      <td>Artificial Intelligence (AI) is the domain of ...</td>\n",
       "    </tr>\n",
       "    <tr>\n",
       "      <th>1</th>\n",
       "      <td>What are the different types of Learning/ Trai...</td>\n",
       "      <td>ML algorithms can be primarily classified depe...</td>\n",
       "    </tr>\n",
       "    <tr>\n",
       "      <th>2</th>\n",
       "      <td>What is the main key difference between superv...</td>\n",
       "      <td>There are various means to select important va...</td>\n",
       "    </tr>\n",
       "    <tr>\n",
       "      <th>3</th>\n",
       "      <td>There are many machine learning algorithms til...</td>\n",
       "      <td>Machine Learning algorithm to be used purely d...</td>\n",
       "    </tr>\n",
       "    <tr>\n",
       "      <th>4</th>\n",
       "      <td>State the differences between causality and co...</td>\n",
       "      <td>Causality applies to situations where one acti...</td>\n",
       "    </tr>\n",
       "  </tbody>\n",
       "</table>\n",
       "</div>"
      ],
      "text/plain": [
       "                                            question  \\\n",
       "0  Explain the terms Artificial Intelligence (AI)...   \n",
       "1  What are the different types of Learning/ Trai...   \n",
       "2  What is the main key difference between superv...   \n",
       "3  There are many machine learning algorithms til...   \n",
       "4  State the differences between causality and co...   \n",
       "\n",
       "                                              answer  \n",
       "0  Artificial Intelligence (AI) is the domain of ...  \n",
       "1  ML algorithms can be primarily classified depe...  \n",
       "2  There are various means to select important va...  \n",
       "3  Machine Learning algorithm to be used purely d...  \n",
       "4  Causality applies to situations where one acti...  "
      ]
     },
     "execution_count": 3,
     "metadata": {},
     "output_type": "execute_result"
    }
   ],
   "source": [
    "import pandas as pd \n",
    "df=pd.read_csv('greatlearning_ml_questions.csv')\n",
    "df.head()"
   ]
  },
  {
   "cell_type": "code",
   "execution_count": 31,
   "id": "b3a4ff71-ed7e-4592-9f3d-0dd05534b1c4",
   "metadata": {
    "tags": []
   },
   "outputs": [],
   "source": [
    "df['question'] = df['question'].str.lower()\n",
    "df['answer'] = df['answer'].str.lower()\n"
   ]
  },
  {
   "cell_type": "code",
   "execution_count": 39,
   "id": "012ad838-6c3a-49c2-9423-809c3297356d",
   "metadata": {
    "tags": []
   },
   "outputs": [],
   "source": [
    "import re \n",
    "# Pour la colonne question - garde les lettres, chiffres, espaces et \"?\"\n",
    "df['question'] = df['question'].apply(lambda x: re.sub(r'[^a-zA-Z0-9\\s?]', '', x))\n",
    "\n",
    "# Pour la colonne answer - garde uniquement lettres, chiffres et espaces (sans \"?\")\n",
    "df['answer'] = df['answer'].apply(lambda x: re.sub(r'[^a-zA-Z0-9\\s]', '', x))\n",
    "\n",
    "# Nettoyage des espaces au début et à la fin\n",
    "df['question'] = df['question'].str.strip()\n",
    "df['answer'] = df['answer'].str.strip()"
   ]
  },
  {
   "cell_type": "code",
   "execution_count": 41,
   "id": "7388e7ac-d9af-400f-8b8d-46e3e8ece4e1",
   "metadata": {
    "tags": []
   },
   "outputs": [],
   "source": [
    " df.to_csv('clean_data.csv', index=False, encoding='utf-8')"
   ]
  },
  {
   "cell_type": "code",
   "execution_count": 44,
   "id": "0e2ae56b-2860-4c89-82c1-2bfa52edf368",
   "metadata": {
    "tags": []
   },
   "outputs": [
    {
     "name": "stdout",
     "output_type": "stream",
     "text": [
      "Cleaned DataFrame:\n",
      "                          question                            answer\n",
      "0        What is machine learning?            Machine learning is...\n",
      "1  How do you handle missing data?  We can handle missing data by...\n",
      "2               Explain ROC curve?           ROC curve represents...\n"
     ]
    }
   ],
   "source": [
    "import pandas as pd\n",
    "import re\n",
    "\n",
    "def clean_ml_qa_dataset(df):\n",
    "    \"\"\"\n",
    "    Clean the ML Q&A dataset by:\n",
    "    - Ensuring questions end with \"?\"\n",
    "    - Removing \"Ans.\" prefix from answers\n",
    "    - Cleaning special characters while preserving important punctuation\n",
    "    \n",
    "    Args:\n",
    "        df: pandas DataFrame with 'question' and 'answer' columns\n",
    "    \n",
    "    Returns:\n",
    "        cleaned DataFrame\n",
    "    \"\"\"\n",
    "    # Make a copy to avoid modifying the original\n",
    "    cleaned_df = df.copy()\n",
    "    \n",
    "    def clean_question(question):\n",
    "        # Remove special characters but keep ? . , ( )\n",
    "        question = re.sub(r'[^a-zA-Z0-9\\s\\?\\.\\,\\(\\)]', '', str(question))\n",
    "        # Ensure question ends with ?\n",
    "        if not question.strip().endswith('?'):\n",
    "            question = question.strip() + '?'\n",
    "        # Remove multiple spaces\n",
    "        question = ' '.join(question.split())\n",
    "        return question\n",
    "    \n",
    "    def clean_answer(answer):\n",
    "        # Remove \"Ans.\" prefix if it exists\n",
    "        answer = re.sub(r'^Ans\\.\\s*', '', str(answer))\n",
    "        # Remove special characters but keep ? . , ( )\n",
    "        answer = re.sub(r'[^a-zA-Z0-9\\s\\?\\.\\,\\(\\)]', '', answer)\n",
    "        # Remove multiple spaces\n",
    "        answer = ' '.join(answer.split())\n",
    "        return answer\n",
    "    \n",
    "    # Apply cleaning functions\n",
    "    cleaned_df['question'] = cleaned_df['question'].apply(clean_question)\n",
    "    cleaned_df['answer'] = cleaned_df['answer'].apply(clean_answer)\n",
    "    \n",
    "    return cleaned_df\n",
    "\n",
    "# Example usage\n",
    "if __name__ == \"__main__\":\n",
    "    # Sample data\n",
    "    data = {\n",
    "        'question': ['What is machine learning', 'How do you handle missing data?', 'Explain ROC curve?'],\n",
    "        'answer': ['Ans. Machine learning is...', 'We can handle missing data by...', 'ROC curve represents...']\n",
    "    }\n",
    "    df = pd.DataFrame(data)\n",
    "    \n",
    "    # Clean the data\n",
    "    cleaned_df = clean_ml_qa_dataset(df)\n",
    "    print(\"Cleaned DataFrame:\")\n",
    "    print(cleaned_df)"
   ]
  },
  {
   "cell_type": "code",
   "execution_count": 46,
   "id": "91fa46a5-243f-41cc-b6cc-2f4f6ded2bf3",
   "metadata": {
    "tags": []
   },
   "outputs": [],
   "source": [
    "# Lire le fichier CSV\n",
    "df = pd.read_csv('greatlearning_ml_questions.csv')\n",
    "\n",
    "# Appliquer le nettoyage\n",
    "cleaned_df = clean_ml_qa_dataset(df)\n",
    "\n",
    "# Sauvegarder le résultat\n",
    "cleaned_df.to_csv('cleaned_ml_questions.csv', index=False)"
   ]
  },
  {
   "cell_type": "code",
   "execution_count": null,
   "id": "d4c2eca3-4578-4f6b-b3ad-b9ff6925f74e",
   "metadata": {},
   "outputs": [],
   "source": []
  }
 ],
 "metadata": {
  "kernelspec": {
   "display_name": "Python 3 (ipykernel)",
   "language": "python",
   "name": "python3"
  },
  "language_info": {
   "codemirror_mode": {
    "name": "ipython",
    "version": 3
   },
   "file_extension": ".py",
   "mimetype": "text/x-python",
   "name": "python",
   "nbconvert_exporter": "python",
   "pygments_lexer": "ipython3",
   "version": "3.11.5"
  }
 },
 "nbformat": 4,
 "nbformat_minor": 5
}
