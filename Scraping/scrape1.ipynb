{
 "cells": [
  {
   "cell_type": "code",
   "execution_count": 12,
   "id": "9323341f-aa52-4110-abeb-e0bf9cc6e62d",
   "metadata": {
    "tags": []
   },
   "outputs": [
    {
     "name": "stdout",
     "output_type": "stream",
     "text": [
      "Requirement already satisfied: beautifulsoup4 in c:\\users\\habou\\anaconda3\\lib\\site-packages (4.12.2)\n",
      "Requirement already satisfied: soupsieve>1.2 in c:\\users\\habou\\anaconda3\\lib\\site-packages (from beautifulsoup4) (2.5)\n"
     ]
    }
   ],
   "source": [
    "!pip install  beautifulsoup4"
   ]
  },
  {
   "cell_type": "code",
   "execution_count": 25,
   "id": "e37dd3c0-8231-46d0-a276-793972574f59",
   "metadata": {
    "tags": []
   },
   "outputs": [
    {
     "name": "stdout",
     "output_type": "stream",
     "text": [
      "Scraping terminé. 108 questions-réponses ont été sauvegardées.\n",
      "Les images ont été sauvegardées dans le dossier 'images'\n"
     ]
    }
   ],
   "source": [
    "import requests\n",
    "from bs4 import BeautifulSoup\n",
    "import pandas as pd\n",
    "import csv\n",
    "import os\n",
    "\n",
    "def scrape_turing_ml_questions():\n",
    "    url = \"https://www.turing.com/interview-questions/machine-learning\"\n",
    "    headers = {\n",
    "        'User-Agent': 'Mozilla/5.0 (Windows NT 10.0; Win64; x64) AppleWebKit/537.36 (KHTML, like Gecko) Chrome/91.0.4472.124 Safari/537.36'\n",
    "    }\n",
    "    \n",
    "    try:\n",
    "        # Créer un dossier pour les images si nécessaire\n",
    "        if not os.path.exists('images'):\n",
    "            os.makedirs('images')\n",
    "            \n",
    "        response = requests.get(url, headers=headers)\n",
    "        response.raise_for_status()\n",
    "        soup = BeautifulSoup(response.text, 'html.parser')\n",
    "        qa_pairs = []\n",
    "        \n",
    "        blocks = soup.find_all('div', class_='OrderedBlocks_block__8Fj6_')\n",
    "        \n",
    "        for i, block in enumerate(blocks, 1):\n",
    "            try:\n",
    "                # Extraire la question\n",
    "                question_div = block.find('div', class_='PrismicRichText_root__bjKvj OrderedBlocks_question__ufWup')\n",
    "                question = question_div.get_text(strip=True) if question_div else \"\"\n",
    "                \n",
    "                # Extraire la réponse et les images\n",
    "                answer_div = block.find('div', class_='PrismicRichText_root__bjKvj OrderedBlocks_answerText__1PzUY')\n",
    "                answer = answer_div.get_text(strip=True) if answer_div else \"\"\n",
    "                \n",
    "                # Rechercher les images dans la réponse\n",
    "                image_urls = []\n",
    "                images = answer_div.find_all('img') if answer_div else []\n",
    "                \n",
    "                for j, img in enumerate(images):\n",
    "                    img_url = img.get('src')\n",
    "                    if img_url:\n",
    "                        # Nettoyer l'URL de l'image si nécessaire\n",
    "                        if not img_url.startswith(('http:', 'https:')):\n",
    "                            img_url = f\"https://www.turing.com{img_url}\"\n",
    "                            \n",
    "                        # Télécharger l'image\n",
    "                        try:\n",
    "                            img_response = requests.get(img_url, headers=headers)\n",
    "                            img_response.raise_for_status()\n",
    "                            \n",
    "                            # Créer un nom de fichier unique\n",
    "                            img_filename = f\"question_{i}_image_{j + 1}.jpg\"\n",
    "                            img_path = os.path.join('images', img_filename)\n",
    "                            \n",
    "                            # Sauvegarder l'image\n",
    "                            with open(img_path, 'wb') as f:\n",
    "                                f.write(img_response.content)\n",
    "                                \n",
    "                            image_urls.append(img_path)\n",
    "                            \n",
    "                        except Exception as e:\n",
    "                            print(f\"Erreur lors du téléchargement de l'image {img_url}: {e}\")\n",
    "                            continue\n",
    "                \n",
    "                qa_pairs.append({\n",
    "                    'question': question,\n",
    "                    'answer': answer,\n",
    "                    'images': '|'.join(image_urls) if image_urls else ''  # Joindre les chemins d'images avec un séparateur |\n",
    "                })\n",
    "                \n",
    "            except AttributeError as e:\n",
    "                print(f\"Erreur lors de l'extraction d'une paire Q&A: {e}\")\n",
    "                continue\n",
    "        \n",
    "        # Créer un DataFrame\n",
    "        df = pd.DataFrame(qa_pairs)\n",
    "        \n",
    "        # Sauvegarder en CSV\n",
    "        df.to_csv('turing_ml_questions_with_images.csv', index=False, encoding='utf-8')\n",
    "        \n",
    "        print(f\"Scraping terminé. {len(qa_pairs)} questions-réponses ont été sauvegardées.\")\n",
    "        print(f\"Les images ont été sauvegardées dans le dossier 'images'\")\n",
    "        \n",
    "    except requests.RequestException as e:\n",
    "        print(f\"Erreur lors de la requête: {e}\")\n",
    "    except Exception as e:\n",
    "        print(f\"Une erreur est survenue: {e}\")\n",
    "\n",
    "if __name__ == \"__main__\":\n",
    "    scrape_turing_ml_questions()"
   ]
  },
  {
   "cell_type": "code",
   "execution_count": null,
   "id": "ce4b1957-7072-4f04-b548-dba767116ab0",
   "metadata": {},
   "outputs": [],
   "source": []
  }
 ],
 "metadata": {
  "kernelspec": {
   "display_name": "Python 3 (ipykernel)",
   "language": "python",
   "name": "python3"
  },
  "language_info": {
   "codemirror_mode": {
    "name": "ipython",
    "version": 3
   },
   "file_extension": ".py",
   "mimetype": "text/x-python",
   "name": "python",
   "nbconvert_exporter": "python",
   "pygments_lexer": "ipython3",
   "version": "3.11.5"
  }
 },
 "nbformat": 4,
 "nbformat_minor": 5
}
