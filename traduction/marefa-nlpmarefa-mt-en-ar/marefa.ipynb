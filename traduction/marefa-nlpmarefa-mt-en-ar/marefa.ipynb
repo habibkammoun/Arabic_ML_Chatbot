{
  "nbformat": 4,
  "nbformat_minor": 0,
  "metadata": {
    "colab": {
      "provenance": [],
      "gpuType": "T4"
    },
    "kernelspec": {
      "name": "python3",
      "display_name": "Python 3"
    },
    "language_info": {
      "name": "python"
    },
    "accelerator": "GPU"
  },
  "cells": [
    {
      "cell_type": "code",
      "execution_count": 2,
      "metadata": {
        "colab": {
          "base_uri": "https://localhost:8080/"
        },
        "id": "DNlPclmDRaAG",
        "outputId": "35daa341-74b9-46bc-c444-356c6e9a86e1"
      },
      "outputs": [
        {
          "output_type": "stream",
          "name": "stdout",
          "text": [
            "Translated text: ما هو الذكاء الاصطناعي؟\n",
            "Translated CSV with only translated columns saved to questions_translated.csv\n"
          ]
        }
      ],
      "source": [
        "# Load model directly\n",
        "from transformers import AutoTokenizer, AutoModelForSeq2SeqLM\n",
        "\n",
        "tokenizer = AutoTokenizer.from_pretrained(\"marefa-nlp/marefa-mt-en-ar\")\n",
        "model = AutoModelForSeq2SeqLM.from_pretrained(\"marefa-nlp/marefa-mt-en-ar\")\n",
        "# Define the input text (question about artificial intelligence)\n",
        "input_text = \"What is artificial intelligence?\"\n",
        "\n",
        "# Tokenize the input text\n",
        "inputs = tokenizer.encode(input_text, return_tensors=\"pt\")\n",
        "\n",
        "# Generate the translation\n",
        "outputs = model.generate(inputs, max_length=50, num_beams=4, early_stopping=True)\n",
        "\n",
        "# Decode and print the output\n",
        "translated_text = tokenizer.decode(outputs[0], skip_special_tokens=True)\n",
        "print(\"Translated text:\", translated_text)\n",
        "import pandas as pd\n",
        "from transformers import AutoTokenizer, AutoModelForSeq2SeqLM\n",
        "\n",
        "# Load the tokenizer and model\n",
        "tokenizer = AutoTokenizer.from_pretrained(\"marefa-nlp/marefa-mt-en-ar\")\n",
        "model = AutoModelForSeq2SeqLM.from_pretrained(\"marefa-nlp/marefa-mt-en-ar\")\n",
        "\n",
        "# Define a function to translate text\n",
        "def translate_text(text):\n",
        "    inputs = tokenizer.encode(text, return_tensors=\"pt\")\n",
        "    outputs = model.generate(inputs, max_length=50, num_beams=4, early_stopping=True)\n",
        "    return tokenizer.decode(outputs[0], skip_special_tokens=True)\n",
        "\n",
        "# Load the CSV file\n",
        "input_csv_path = \"cleaned_ml_questions.csv\"  # Update with your file path\n",
        "data = pd.read_csv(input_csv_path)\n",
        "\n",
        "# Translate the 'question' and 'answer' columns\n",
        "data['question_translated'] = data['question'].apply(translate_text)\n",
        "data['answer_translated'] = data['answer'].apply(translate_text)\n",
        "\n",
        "# Save only the translated columns to a new CSV\n",
        "translated_data = data[['question_translated', 'answer_translated']]\n",
        "output_csv_path = \"questions_translated.csv\"  # Update with your desired output path\n",
        "translated_data.to_csv(output_csv_path, index=False)\n",
        "\n",
        "print(f\"Translated CSV with only translated columns saved to {output_csv_path}\")\n"
      ]
    }
  ]
}